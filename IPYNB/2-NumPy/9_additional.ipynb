{
 "cells": [
  {
   "cell_type": "code",
   "execution_count": 1,
   "id": "19a44604-7498-45d6-b8d4-75de9728e781",
   "metadata": {},
   "outputs": [],
   "source": [
    "import numpy as np"
   ]
  },
  {
   "cell_type": "markdown",
   "id": "4790f697-075e-4e42-8609-80c205de3b07",
   "metadata": {},
   "source": [
    "## Problem 1"
   ]
  },
  {
   "cell_type": "code",
   "execution_count": 2,
   "id": "8406f01e-a568-4441-b17b-afc9fd007d5a",
   "metadata": {},
   "outputs": [],
   "source": [
    "distance = [10,15,17,24]\n",
    "time = [.30,.47,.55,1.20]"
   ]
  },
  {
   "cell_type": "code",
   "execution_count": 3,
   "id": "f0c87e9d-7f0c-463b-b6b3-f4d2f403171e",
   "metadata": {},
   "outputs": [],
   "source": [
    "np_time = np.array(time)"
   ]
  },
  {
   "cell_type": "code",
   "execution_count": 5,
   "id": "11058e8b-326d-4575-aede-db8b0b792895",
   "metadata": {},
   "outputs": [
    {
     "name": "stdout",
     "output_type": "stream",
     "text": [
      "<class 'numpy.float64'>\n",
      "<class 'numpy.float64'>\n",
      "<class 'numpy.float64'>\n",
      "<class 'numpy.float64'>\n"
     ]
    }
   ],
   "source": [
    "for i in np_time:\n",
    "    print(type(i))"
   ]
  },
  {
   "cell_type": "code",
   "execution_count": 6,
   "id": "983166cf-9e34-498f-a2a4-a2836b30656e",
   "metadata": {},
   "outputs": [],
   "source": [
    "time2 = [100,.30,.47,.55,1.20]   \n",
    "np_time2 = np.array(time2)"
   ]
  },
  {
   "cell_type": "code",
   "execution_count": 7,
   "id": "49204b79-c6ac-47e6-b6ab-9ca521ff87e3",
   "metadata": {},
   "outputs": [
    {
     "name": "stdout",
     "output_type": "stream",
     "text": [
      "<class 'numpy.float64'>\n",
      "<class 'numpy.float64'>\n",
      "<class 'numpy.float64'>\n",
      "<class 'numpy.float64'>\n",
      "<class 'numpy.float64'>\n"
     ]
    }
   ],
   "source": [
    "for i in np_time2:\n",
    "    print(type(i))"
   ]
  },
  {
   "cell_type": "code",
   "execution_count": 8,
   "id": "c9da65b2-29c4-4f8f-8bd5-0800a0e13a40",
   "metadata": {},
   "outputs": [
    {
     "name": "stdout",
     "output_type": "stream",
     "text": [
      "[33.33333333 31.91489362 30.90909091 20.        ]\n"
     ]
    }
   ],
   "source": [
    "np_distance = np.array(distance)\n",
    "speed = np_distance/np_time\n",
    "print(speed)"
   ]
  },
  {
   "cell_type": "markdown",
   "id": "1ba8bd66-f16b-48c4-ad79-5f374324895d",
   "metadata": {},
   "source": [
    "## Problem 2"
   ]
  },
  {
   "cell_type": "code",
   "execution_count": 9,
   "id": "c49546cd-76a8-4334-820c-fa64d07fc48c",
   "metadata": {},
   "outputs": [],
   "source": [
    "first_trial_cyclist = [10,15,17,24]\n",
    "second_trial_cyclist = [12,11,21,24]"
   ]
  },
  {
   "cell_type": "code",
   "execution_count": 10,
   "id": "1eb5d5de-30e8-40ab-beb0-cb6e5f4f6b06",
   "metadata": {},
   "outputs": [],
   "source": [
    "np_first_trial_cyclist = np.array(first_trial_cyclist)\n",
    "np_second_trial_cylist = np.array(second_trial_cyclist)"
   ]
  },
  {
   "cell_type": "code",
   "execution_count": 11,
   "id": "50bc30bd-a202-4640-ab67-5e2d6980b118",
   "metadata": {},
   "outputs": [],
   "source": [
    "result = np_first_trial_cyclist+np_second_trial_cylist"
   ]
  },
  {
   "cell_type": "code",
   "execution_count": 12,
   "id": "458b3fa2-dd78-422b-b019-a21be5592574",
   "metadata": {},
   "outputs": [
    {
     "name": "stdout",
     "output_type": "stream",
     "text": [
      "[22 26 38 48]\n"
     ]
    }
   ],
   "source": [
    "print(result)"
   ]
  },
  {
   "cell_type": "code",
   "execution_count": 13,
   "id": "86d306af-f6f3-4cc0-99c5-0ee91e695583",
   "metadata": {},
   "outputs": [],
   "source": [
    "trials_new = np.array([first_trial_cyclist,second_trial_cyclist])"
   ]
  },
  {
   "cell_type": "code",
   "execution_count": 14,
   "id": "4fefa313-519d-4a98-8342-c93e2ced3b75",
   "metadata": {},
   "outputs": [
    {
     "name": "stdout",
     "output_type": "stream",
     "text": [
      "[[10 15 17 24]\n",
      " [12 11 21 24]]\n"
     ]
    }
   ],
   "source": [
    "print(trials_new)"
   ]
  },
  {
   "cell_type": "code",
   "execution_count": 15,
   "id": "1ce9cfc8-4845-4bfd-b59a-5043aa1ebeba",
   "metadata": {},
   "outputs": [
    {
     "data": {
      "text/plain": [
       "2"
      ]
     },
     "execution_count": 15,
     "metadata": {},
     "output_type": "execute_result"
    }
   ],
   "source": [
    "trials_new.ndim"
   ]
  },
  {
   "cell_type": "code",
   "execution_count": 16,
   "id": "35a009d6-219f-4255-84d4-19af1f33ca83",
   "metadata": {},
   "outputs": [
    {
     "data": {
      "text/plain": [
       "dtype('int32')"
      ]
     },
     "execution_count": 16,
     "metadata": {},
     "output_type": "execute_result"
    }
   ],
   "source": [
    "trials_new.dtype"
   ]
  },
  {
   "cell_type": "code",
   "execution_count": 17,
   "id": "1b2dfb18-168d-43b7-bc42-000713418adf",
   "metadata": {},
   "outputs": [
    {
     "data": {
      "text/plain": [
       "array([[12, 11, 21, 24]])"
      ]
     },
     "execution_count": 17,
     "metadata": {},
     "output_type": "execute_result"
    }
   ],
   "source": [
    "trials_new[1:]"
   ]
  },
  {
   "cell_type": "code",
   "execution_count": 18,
   "id": "f65ef0fe-7336-406b-8993-fdefaa8a9018",
   "metadata": {},
   "outputs": [
    {
     "data": {
      "text/plain": [
       "array([[10, 15, 17, 24],\n",
       "       [12, 11, 21, 24]])"
      ]
     },
     "execution_count": 18,
     "metadata": {},
     "output_type": "execute_result"
    }
   ],
   "source": [
    "trials_new[:]"
   ]
  },
  {
   "cell_type": "code",
   "execution_count": 19,
   "id": "0f6e776e-0be7-4ebb-a3b4-6039911eb604",
   "metadata": {},
   "outputs": [
    {
     "data": {
      "text/plain": [
       "array([10, 12])"
      ]
     },
     "execution_count": 19,
     "metadata": {},
     "output_type": "execute_result"
    }
   ],
   "source": [
    "trials_new[:,0]"
   ]
  },
  {
   "cell_type": "code",
   "execution_count": 20,
   "id": "76eea8cb-66ff-4fb6-b3e4-8f7d0625093d",
   "metadata": {},
   "outputs": [
    {
     "data": {
      "text/plain": [
       "array([[15, 17],\n",
       "       [11, 21]])"
      ]
     },
     "execution_count": 20,
     "metadata": {},
     "output_type": "execute_result"
    }
   ],
   "source": [
    "trials_new[:,1:3]"
   ]
  },
  {
   "cell_type": "code",
   "execution_count": 21,
   "id": "7c26cd8d-ac99-450b-b518-86ebd7a0ab9b",
   "metadata": {},
   "outputs": [
    {
     "data": {
      "text/plain": [
       "(2, 2)"
      ]
     },
     "execution_count": 21,
     "metadata": {},
     "output_type": "execute_result"
    }
   ],
   "source": [
    "trials_new[:,1:3].shape"
   ]
  },
  {
   "cell_type": "code",
   "execution_count": 22,
   "id": "f225ea1a-f5fa-4da0-8a45-bbc9bff0325c",
   "metadata": {},
   "outputs": [
    {
     "name": "stdout",
     "output_type": "stream",
     "text": [
      "12 [12 11 21 24]\n",
      "11 [12 11 21 24]\n",
      "21 [12 11 21 24]\n",
      "24 [12 11 21 24]\n"
     ]
    }
   ],
   "source": [
    "for n in trials_new[1:]:\n",
    "    for j in n:\n",
    "         print(j,n)"
   ]
  },
  {
   "cell_type": "code",
   "execution_count": 23,
   "id": "87453798-d448-4a47-9143-2b800df82289",
   "metadata": {},
   "outputs": [
    {
     "name": "stdout",
     "output_type": "stream",
     "text": [
      "[10 15 17 24]\n",
      "[12 11 21 24]\n"
     ]
    }
   ],
   "source": [
    "for n in trials_new:\n",
    "    print(n)"
   ]
  },
  {
   "cell_type": "code",
   "execution_count": 24,
   "id": "9ff8688c-e7cd-4b35-848a-39ef236206d8",
   "metadata": {},
   "outputs": [
    {
     "name": "stdout",
     "output_type": "stream",
     "text": [
      "10 [10 15 17 24]\n",
      "15 [10 15 17 24]\n",
      "17 [10 15 17 24]\n",
      "24 [10 15 17 24]\n",
      "12 [12 11 21 24]\n",
      "11 [12 11 21 24]\n",
      "21 [12 11 21 24]\n",
      "24 [12 11 21 24]\n"
     ]
    }
   ],
   "source": [
    "for n in trials_new:\n",
    "    for j in n:\n",
    "         print(j,n)"
   ]
  },
  {
   "cell_type": "code",
   "execution_count": 25,
   "id": "f4b14543-9603-43ee-ac93-fa3a7e9ae2cc",
   "metadata": {},
   "outputs": [],
   "source": [
    "trials_sel = trials_new>17"
   ]
  },
  {
   "cell_type": "code",
   "execution_count": 26,
   "id": "77186e04-8b64-470c-bd0d-ec6f33dcb15a",
   "metadata": {},
   "outputs": [
    {
     "name": "stdout",
     "output_type": "stream",
     "text": [
      "[[False False False  True]\n",
      " [False False  True  True]]\n"
     ]
    }
   ],
   "source": [
    "print(trials_sel)"
   ]
  },
  {
   "cell_type": "code",
   "execution_count": 27,
   "id": "ba6d4032-6a86-4f42-95be-babeb611c430",
   "metadata": {},
   "outputs": [],
   "source": [
    "trials_self = trials_new[trials_sel]"
   ]
  },
  {
   "cell_type": "code",
   "execution_count": 28,
   "id": "ab8330a4-55d7-45db-b7d2-29545ed0d667",
   "metadata": {},
   "outputs": [
    {
     "data": {
      "text/plain": [
       "array([24, 21, 24])"
      ]
     },
     "execution_count": 28,
     "metadata": {},
     "output_type": "execute_result"
    }
   ],
   "source": [
    "trials_self"
   ]
  },
  {
   "cell_type": "markdown",
   "id": "f9569ca8-4b31-4682-9e59-fc3a066a1251",
   "metadata": {},
   "source": [
    "## Broadcasting"
   ]
  },
  {
   "cell_type": "code",
   "execution_count": 29,
   "id": "423e6201-6003-4456-9d07-a42360feb1ac",
   "metadata": {},
   "outputs": [],
   "source": [
    "array_a = np.array([2,34,5,8])\n",
    "array_b = np.array([.3,.3,.3,.3])"
   ]
  },
  {
   "cell_type": "code",
   "execution_count": 30,
   "id": "8a2b663d-5c6b-48c4-aedb-a227760a7cb3",
   "metadata": {},
   "outputs": [
    {
     "name": "stdout",
     "output_type": "stream",
     "text": [
      "[ 0.6 10.2  1.5  2.4]\n"
     ]
    }
   ],
   "source": [
    "result = array_a * array_b\n",
    "print(result)"
   ]
  },
  {
   "cell_type": "code",
   "execution_count": 31,
   "id": "382cc4ef-3067-4ebb-992b-df5fee266db8",
   "metadata": {},
   "outputs": [],
   "source": [
    "#variable with a scalar value\n",
    "scalar_c = 0.3"
   ]
  },
  {
   "cell_type": "code",
   "execution_count": 32,
   "id": "01bd9b85-759e-4080-82b9-cc9651b25331",
   "metadata": {},
   "outputs": [
    {
     "name": "stdout",
     "output_type": "stream",
     "text": [
      "[ 0.6 10.2  1.5  2.4]\n"
     ]
    }
   ],
   "source": [
    "#multiple array with scalar value\n",
    "result2 = array_a * scalar_c\n",
    "print(result2)"
   ]
  },
  {
   "cell_type": "markdown",
   "id": "7e5cbc15-4be3-479e-ac81-946871af3f93",
   "metadata": {},
   "source": [
    "## Problem 3"
   ]
  },
  {
   "cell_type": "code",
   "execution_count": 34,
   "id": "dc9f2c9d-1b95-458d-91aa-c8a43e71f283",
   "metadata": {},
   "outputs": [],
   "source": [
    "countries = np.array(['luxembourg','Norway','Japan','Switzerland','USA'])\n",
    "gdp_per_capita = np.array([52056.1234,40345.4565,45456.78564,33245.56782,34544.45888])"
   ]
  },
  {
   "cell_type": "code",
   "execution_count": 35,
   "id": "ab4e354d-22a5-432b-85c9-8b2a46a4a2ed",
   "metadata": {},
   "outputs": [
    {
     "name": "stdout",
     "output_type": "stream",
     "text": [
      "0\n"
     ]
    }
   ],
   "source": [
    "#max gdp per capita (shows index position)\n",
    "max_gdp_per_capita = gdp_per_capita.argmax()\n",
    "print(max_gdp_per_capita)"
   ]
  },
  {
   "cell_type": "code",
   "execution_count": 36,
   "id": "2c51736d-4a21-4f17-9434-f0d3357147d6",
   "metadata": {},
   "outputs": [
    {
     "name": "stdout",
     "output_type": "stream",
     "text": [
      "luxembourg\n"
     ]
    }
   ],
   "source": [
    "country_with_max_gdp_per_capita = countries[max_gdp_per_capita]\n",
    "print(country_with_max_gdp_per_capita)"
   ]
  },
  {
   "cell_type": "code",
   "execution_count": 37,
   "id": "d5c65b79-450f-4700-9edf-ca9b2731c9fd",
   "metadata": {},
   "outputs": [
    {
     "name": "stdout",
     "output_type": "stream",
     "text": [
      "3\n"
     ]
    }
   ],
   "source": [
    "min_gdp_per_capital = gdp_per_capita.argmin()\n",
    "print(min_gdp_per_capital)"
   ]
  },
  {
   "cell_type": "code",
   "execution_count": 38,
   "id": "8fa9cd49-0217-4b8a-b54b-df7cc71eed10",
   "metadata": {},
   "outputs": [
    {
     "name": "stdout",
     "output_type": "stream",
     "text": [
      "Switzerland\n"
     ]
    }
   ],
   "source": [
    "country_with_min_gdp_per_capita = countries[min_gdp_per_capital]\n",
    "print(country_with_min_gdp_per_capita)\n"
   ]
  },
  {
   "cell_type": "code",
   "execution_count": 39,
   "id": "14820c59-7467-4e73-b998-4c5a2fe90802",
   "metadata": {},
   "outputs": [
    {
     "name": "stdout",
     "output_type": "stream",
     "text": [
      "ecalculating country luxembourg\n",
      "ecalculating country Norway\n",
      "ecalculating country Japan\n",
      "ecalculating country Switzerland\n",
      "ecalculating country USA\n"
     ]
    }
   ],
   "source": [
    "#printing values iteratively\n",
    "for country in countries:\n",
    "    print('ecalculating country {}'.format(country))"
   ]
  },
  {
   "cell_type": "code",
   "execution_count": 40,
   "id": "e712c60c-0ff6-49ff-9831-1644a2b63079",
   "metadata": {},
   "outputs": [
    {
     "name": "stdout",
     "output_type": "stream",
     "text": [
      "country luxembourg per capita gdp is 52056.1234\n",
      "country Norway per capita gdp is 40345.4565\n",
      "country Japan per capita gdp is 45456.78564\n",
      "country Switzerland per capita gdp is 33245.56782\n"
     ]
    }
   ],
   "source": [
    "#using formating\n",
    "for i in range(0,len(countries)-1):\n",
    "    country = countries[i]\n",
    "    country_gdp_per_capita = gdp_per_capita[i]\n",
    "    print('country {} per capita gdp is {}'.format(country,country_gdp_per_capita))"
   ]
  },
  {
   "cell_type": "code",
   "execution_count": 41,
   "id": "c4684e29-fe1a-4aa8-b51f-ae0fc442dc22",
   "metadata": {},
   "outputs": [
    {
     "name": "stdout",
     "output_type": "stream",
     "text": [
      "52056.1234\n",
      "33245.56782\n",
      "41129.678448\n",
      "6989.282898226141\n"
     ]
    }
   ],
   "source": [
    "print(gdp_per_capita.max())\n",
    "print(gdp_per_capita.min())\n",
    "print(gdp_per_capita.mean())\n",
    "print(gdp_per_capita.std())"
   ]
  },
  {
   "cell_type": "code",
   "execution_count": 42,
   "id": "9909503f-364e-4032-9c90-f2a29cd00b33",
   "metadata": {},
   "outputs": [],
   "source": [
    "#Using other functions\n",
    "marks = np.array([[23,34,45,56],[23,23,34,67]])"
   ]
  },
  {
   "cell_type": "code",
   "execution_count": 43,
   "id": "70dca26e-391f-49dd-adf6-ad4e1c514689",
   "metadata": {},
   "outputs": [
    {
     "data": {
      "text/plain": [
       "array([[23, 34, 45, 56],\n",
       "       [23, 23, 34, 67]])"
      ]
     },
     "execution_count": 43,
     "metadata": {},
     "output_type": "execute_result"
    }
   ],
   "source": [
    "marks"
   ]
  },
  {
   "cell_type": "code",
   "execution_count": 44,
   "id": "945c68a5-47af-4156-8370-17c1f78499e8",
   "metadata": {},
   "outputs": [
    {
     "data": {
      "text/plain": [
       "array([[23, 23],\n",
       "       [34, 23],\n",
       "       [45, 34],\n",
       "       [56, 67]])"
      ]
     },
     "execution_count": 44,
     "metadata": {},
     "output_type": "execute_result"
    }
   ],
   "source": [
    "marks.transpose()"
   ]
  },
  {
   "cell_type": "code",
   "execution_count": 45,
   "id": "eb76d950-7847-4859-a1ef-0eab16597d76",
   "metadata": {},
   "outputs": [
    {
     "data": {
      "text/plain": [
       "array([[23, 34],\n",
       "       [45, 56],\n",
       "       [23, 23],\n",
       "       [34, 67]])"
      ]
     },
     "execution_count": 45,
     "metadata": {},
     "output_type": "execute_result"
    }
   ],
   "source": [
    "marks.reshape(4,2)"
   ]
  },
  {
   "cell_type": "code",
   "execution_count": 46,
   "id": "5790d1d5-fc52-49fc-b201-6b883cec665d",
   "metadata": {},
   "outputs": [
    {
     "data": {
      "text/plain": [
       "array([[23, 34, 45, 56],\n",
       "       [23, 23, 34, 67]])"
      ]
     },
     "execution_count": 46,
     "metadata": {},
     "output_type": "execute_result"
    }
   ],
   "source": [
    "marks"
   ]
  },
  {
   "cell_type": "code",
   "execution_count": 47,
   "id": "3f3ff2f5-9348-4378-8e56-be38c9baacdd",
   "metadata": {},
   "outputs": [
    {
     "ename": "LinAlgError",
     "evalue": "Last 2 dimensions of the array must be square",
     "output_type": "error",
     "traceback": [
      "\u001b[1;31m---------------------------------------------------------------------------\u001b[0m",
      "\u001b[1;31mLinAlgError\u001b[0m                               Traceback (most recent call last)",
      "Cell \u001b[1;32mIn[47], line 2\u001b[0m\n\u001b[0;32m      1\u001b[0m \u001b[38;5;28;01mfrom\u001b[39;00m \u001b[38;5;21;01mnumpy\u001b[39;00m \u001b[38;5;28;01mimport\u001b[39;00m linalg\n\u001b[1;32m----> 2\u001b[0m \u001b[43mnp\u001b[49m\u001b[38;5;241;43m.\u001b[39;49m\u001b[43mlinalg\u001b[49m\u001b[38;5;241;43m.\u001b[39;49m\u001b[43minv\u001b[49m\u001b[43m(\u001b[49m\u001b[43mmarks\u001b[49m\u001b[43m)\u001b[49m\n",
      "File \u001b[1;32m<__array_function__ internals>:200\u001b[0m, in \u001b[0;36minv\u001b[1;34m(*args, **kwargs)\u001b[0m\n",
      "File \u001b[1;32mc:\\users\\ajay\\appdata\\local\\programs\\python\\python38\\lib\\site-packages\\numpy\\linalg\\linalg.py:533\u001b[0m, in \u001b[0;36minv\u001b[1;34m(a)\u001b[0m\n\u001b[0;32m    531\u001b[0m a, wrap \u001b[38;5;241m=\u001b[39m _makearray(a)\n\u001b[0;32m    532\u001b[0m _assert_stacked_2d(a)\n\u001b[1;32m--> 533\u001b[0m \u001b[43m_assert_stacked_square\u001b[49m\u001b[43m(\u001b[49m\u001b[43ma\u001b[49m\u001b[43m)\u001b[49m\n\u001b[0;32m    534\u001b[0m t, result_t \u001b[38;5;241m=\u001b[39m _commonType(a)\n\u001b[0;32m    536\u001b[0m signature \u001b[38;5;241m=\u001b[39m \u001b[38;5;124m'\u001b[39m\u001b[38;5;124mD->D\u001b[39m\u001b[38;5;124m'\u001b[39m \u001b[38;5;28;01mif\u001b[39;00m isComplexType(t) \u001b[38;5;28;01melse\u001b[39;00m \u001b[38;5;124m'\u001b[39m\u001b[38;5;124md->d\u001b[39m\u001b[38;5;124m'\u001b[39m\n",
      "File \u001b[1;32mc:\\users\\ajay\\appdata\\local\\programs\\python\\python38\\lib\\site-packages\\numpy\\linalg\\linalg.py:190\u001b[0m, in \u001b[0;36m_assert_stacked_square\u001b[1;34m(*arrays)\u001b[0m\n\u001b[0;32m    188\u001b[0m m, n \u001b[38;5;241m=\u001b[39m a\u001b[38;5;241m.\u001b[39mshape[\u001b[38;5;241m-\u001b[39m\u001b[38;5;241m2\u001b[39m:]\n\u001b[0;32m    189\u001b[0m \u001b[38;5;28;01mif\u001b[39;00m m \u001b[38;5;241m!=\u001b[39m n:\n\u001b[1;32m--> 190\u001b[0m     \u001b[38;5;28;01mraise\u001b[39;00m LinAlgError(\u001b[38;5;124m'\u001b[39m\u001b[38;5;124mLast 2 dimensions of the array must be square\u001b[39m\u001b[38;5;124m'\u001b[39m)\n",
      "\u001b[1;31mLinAlgError\u001b[0m: Last 2 dimensions of the array must be square"
     ]
    }
   ],
   "source": [
    "from numpy import linalg\n",
    "np.linalg.inv(marks)"
   ]
  },
  {
   "cell_type": "code",
   "execution_count": 48,
   "id": "1031d193-60e0-4dd9-8abd-9599fd01bb8d",
   "metadata": {},
   "outputs": [],
   "source": [
    "marks = np.array([[23,34],[23,23]])"
   ]
  },
  {
   "cell_type": "code",
   "execution_count": 49,
   "id": "0c64a191-de9e-4e2e-bc73-d955146d60b0",
   "metadata": {},
   "outputs": [
    {
     "data": {
      "text/plain": [
       "array([[-0.09090909,  0.13438735],\n",
       "       [ 0.09090909, -0.09090909]])"
      ]
     },
     "execution_count": 49,
     "metadata": {},
     "output_type": "execute_result"
    }
   ],
   "source": [
    "from numpy import linalg\n",
    "np.linalg.inv(marks)"
   ]
  },
  {
   "cell_type": "code",
   "execution_count": 50,
   "id": "ebee36e8-abfd-40cf-86a5-1e9b6bf0e9f7",
   "metadata": {},
   "outputs": [
    {
     "data": {
      "text/plain": [
       "46"
      ]
     },
     "execution_count": 50,
     "metadata": {},
     "output_type": "execute_result"
    }
   ],
   "source": [
    "np.trace(marks)"
   ]
  },
  {
   "cell_type": "code",
   "execution_count": null,
   "id": "ff0633c7-fe33-49c8-bf36-d633f5f8a36a",
   "metadata": {},
   "outputs": [],
   "source": []
  }
 ],
 "metadata": {
  "kernelspec": {
   "display_name": "Python 3 (ipykernel)",
   "language": "python",
   "name": "python3"
  },
  "language_info": {
   "codemirror_mode": {
    "name": "ipython",
    "version": 3
   },
   "file_extension": ".py",
   "mimetype": "text/x-python",
   "name": "python",
   "nbconvert_exporter": "python",
   "pygments_lexer": "ipython3",
   "version": "3.8.2rc2"
  }
 },
 "nbformat": 4,
 "nbformat_minor": 5
}
