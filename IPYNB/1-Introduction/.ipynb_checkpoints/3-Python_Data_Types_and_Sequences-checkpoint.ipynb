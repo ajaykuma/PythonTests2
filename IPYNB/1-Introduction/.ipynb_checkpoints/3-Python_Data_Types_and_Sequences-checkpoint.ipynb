{
 "cells": [
  {
   "cell_type": "markdown",
   "metadata": {
    "id": "vpKPWbaUMS8s"
   },
   "source": [
    "## __Python Data Types and Sequences__\n",
    "\n",
    "The data in Python can be in many formats. They can be numbers, characters or decimals.\n"
   ]
  },
  {
   "cell_type": "markdown",
   "metadata": {
    "id": "bYI2EZSzoN-C"
   },
   "source": [
    "## Step 1: Numbers\n",
    "\n",
    "- To declare a variable, we need to create a variable and assign a value to it\n",
    "- Declare an integer variable 'a'\n",
    "- Declare a float variable 'b'\n",
    "- Declare a negative integer variable 'c'"
   ]
  },
  {
   "cell_type": "code",
   "execution_count": 1,
   "metadata": {
    "id": "TT37YvbwDeVs"
   },
   "outputs": [],
   "source": [
    "a = 1\n",
    "b = 1.0\n",
    "c = -999"
   ]
  },
  {
   "cell_type": "markdown",
   "metadata": {
    "id": "vQrBt3agaJ5U"
   },
   "source": [
    "Use the 'type()' function to know the variable type"
   ]
  },
  {
   "cell_type": "code",
   "execution_count": 2,
   "metadata": {
    "colab": {
     "base_uri": "https://localhost:8080/"
    },
    "executionInfo": {
     "elapsed": 5,
     "status": "ok",
     "timestamp": 1683197732120,
     "user": {
      "displayName": "IFFATH ZAKIR",
      "userId": "08841559175934332701"
     },
     "user_tz": -330
    },
    "id": "TI7uHcdpZkDO",
    "outputId": "ff5d7a4d-0eae-4971-9c51-99e6a7b26cb8"
   },
   "outputs": [
    {
     "name": "stdout",
     "output_type": "stream",
     "text": [
      "<class 'int'>\n",
      "<class 'float'>\n",
      "<class 'int'>\n"
     ]
    }
   ],
   "source": [
    "print(type(a))\n",
    "print(type(b))\n",
    "print(type(c))"
   ]
  },
  {
   "cell_type": "markdown",
   "metadata": {
    "id": "lgFEof7tZz7S"
   },
   "source": [
    "__Observations__\n",
    "\n",
    "a and c are integer types, and b is a float type."
   ]
  },
  {
   "cell_type": "markdown",
   "metadata": {
    "id": "pB3twD2OW0hz"
   },
   "source": [
    "## Step 2: Strings\n",
    "\n",
    "- Python strings are a set of characters enclosed in single or double quotes.\n",
    "\n",
    "Now, let's declare a string variable.\n",
    "\n",
    "- Declare a variable and assign a value which is in single or double quotes"
   ]
  },
  {
   "cell_type": "code",
   "execution_count": 3,
   "metadata": {
    "id": "FDyNnA_zDeVu"
   },
   "outputs": [],
   "source": [
    "a = '1'"
   ]
  },
  {
   "cell_type": "markdown",
   "metadata": {
    "id": "4BwwFnvoXpCS"
   },
   "source": [
    "Now, let's find the type of the variable."
   ]
  },
  {
   "cell_type": "code",
   "execution_count": 4,
   "metadata": {
    "colab": {
     "base_uri": "https://localhost:8080/"
    },
    "executionInfo": {
     "elapsed": 5,
     "status": "ok",
     "timestamp": 1681736149082,
     "user": {
      "displayName": "Prerna Karn",
      "userId": "16431587453626938972"
     },
     "user_tz": -330
    },
    "id": "kpVJPAjrDeVu",
    "outputId": "9659b370-0c19-4329-90fe-3c34fbc5d21f"
   },
   "outputs": [
    {
     "data": {
      "text/plain": [
       "str"
      ]
     },
     "execution_count": 4,
     "metadata": {},
     "output_type": "execute_result"
    }
   ],
   "source": [
    "type(a)"
   ]
  },
  {
   "cell_type": "markdown",
   "metadata": {
    "id": "pspQVjZkXxi4"
   },
   "source": [
    "**Observation**\n",
    "\n",
    "The type of the variable is a string even though the value stored in the variable is 1. This is because 1 is enclosed in quotes, which indicates a string value."
   ]
  },
  {
   "cell_type": "markdown",
   "metadata": {
    "id": "NIZskaCVMfia"
   },
   "source": [
    "## Step 3: Lists\n",
    "\n",
    "Lists are collections of heterogeneous elements and can be defined using square brackets, the list keyword or the list constructor.\n",
    "Let's define lists in both ways.\n"
   ]
  },
  {
   "cell_type": "code",
   "execution_count": null,
   "metadata": {
    "id": "-XEk695cDeVv"
   },
   "outputs": [],
   "source": [
    "l = []\n",
    "l = list()"
   ]
  },
  {
   "cell_type": "markdown",
   "metadata": {
    "id": "SOeXsY8pikig"
   },
   "source": [
    "- Define a list named 'l' with values 1, 2, 3, 4 and 5\n"
   ]
  },
  {
   "cell_type": "code",
   "execution_count": null,
   "metadata": {
    "id": "u4Ks9OxtDeVw"
   },
   "outputs": [],
   "source": [
    "l = [1,2,3,4,5]"
   ]
  },
  {
   "cell_type": "markdown",
   "metadata": {
    "id": "hAO64DN3adZe"
   },
   "source": [
    "Now, let's access the 0th item from the list 'l'."
   ]
  },
  {
   "cell_type": "code",
   "execution_count": null,
   "metadata": {
    "colab": {
     "base_uri": "https://localhost:8080/"
    },
    "executionInfo": {
     "elapsed": 3,
     "status": "ok",
     "timestamp": 1683199955248,
     "user": {
      "displayName": "IFFATH ZAKIR",
      "userId": "08841559175934332701"
     },
     "user_tz": -330
    },
    "id": "YiqkHTX2DeVw",
    "outputId": "b8d43885-9dbd-4506-e3fa-02938a7132b2"
   },
   "outputs": [
    {
     "data": {
      "text/plain": [
       "1"
      ]
     },
     "execution_count": 8,
     "metadata": {},
     "output_type": "execute_result"
    }
   ],
   "source": [
    "l[0]"
   ]
  },
  {
   "cell_type": "markdown",
   "metadata": {
    "id": "a_eGKyH5iMQp"
   },
   "source": [
    "**Observation**\n",
    "\n",
    "The list element present at index 0 is 1."
   ]
  },
  {
   "cell_type": "markdown",
   "metadata": {
    "id": "58hFqijQbqtP"
   },
   "source": [
    "Now, let's access the last item present in the list 'l'.\n",
    "\n",
    "- Add -1 inside the square bracket of list 'l' "
   ]
  },
  {
   "cell_type": "code",
   "execution_count": null,
   "metadata": {
    "colab": {
     "base_uri": "https://localhost:8080/"
    },
    "executionInfo": {
     "elapsed": 3,
     "status": "ok",
     "timestamp": 1683199959838,
     "user": {
      "displayName": "IFFATH ZAKIR",
      "userId": "08841559175934332701"
     },
     "user_tz": -330
    },
    "id": "QrxqsVHpDeVw",
    "outputId": "fa5bbb82-e6ce-4e24-c2c1-f6ebcbbbcbbf"
   },
   "outputs": [
    {
     "data": {
      "text/plain": [
       "5"
      ]
     },
     "execution_count": 9,
     "metadata": {},
     "output_type": "execute_result"
    }
   ],
   "source": [
    "l[-1]"
   ]
  },
  {
   "cell_type": "markdown",
   "metadata": {
    "id": "9Au7RLjnb5hz"
   },
   "source": [
    "**Observation**\n",
    "\n",
    "The last element of the list is 5, and it is accessed by using index -1."
   ]
  },
  {
   "cell_type": "markdown",
   "metadata": {
    "id": "ULPRnu0IjM8o"
   },
   "source": [
    "Slice the list from index 2 to 3\n",
    "\n",
    "- The syntax is list_name[start_point : end_point]"
   ]
  },
  {
   "cell_type": "code",
   "execution_count": null,
   "metadata": {
    "colab": {
     "base_uri": "https://localhost:8080/"
    },
    "executionInfo": {
     "elapsed": 2,
     "status": "ok",
     "timestamp": 1683199963653,
     "user": {
      "displayName": "IFFATH ZAKIR",
      "userId": "08841559175934332701"
     },
     "user_tz": -330
    },
    "id": "SPIZrj9UDeVx",
    "outputId": "0f96d174-3503-4c07-dd75-1f69af4f7ddd"
   },
   "outputs": [
    {
     "data": {
      "text/plain": [
       "[3, 4]"
      ]
     },
     "execution_count": 10,
     "metadata": {},
     "output_type": "execute_result"
    }
   ],
   "source": [
    "l[2:4]"
   ]
  },
  {
   "cell_type": "markdown",
   "metadata": {
    "id": "_QAPWhhniWYr"
   },
   "source": [
    "**Observation**\n",
    "\n",
    "The list element present at index 2 and 3 are returned."
   ]
  },
  {
   "cell_type": "markdown",
   "metadata": {
    "id": "R1DN7WKhh7wI"
   },
   "source": [
    "Create a list with heterogeneous elements\n",
    "\n",
    "- Give different data types as elements of list 'l'"
   ]
  },
  {
   "cell_type": "code",
   "execution_count": null,
   "metadata": {
    "id": "x6DEBkJBDeVx"
   },
   "outputs": [],
   "source": [
    "l = [1,'strings',[1,2,3]]"
   ]
  },
  {
   "cell_type": "markdown",
   "metadata": {
    "id": "bNxRVHMriICZ"
   },
   "source": [
    "Now, let's print the list."
   ]
  },
  {
   "cell_type": "code",
   "execution_count": null,
   "metadata": {
    "id": "FpGt-zxXDeVx",
    "outputId": "c3382bb0-1ec5-4fc7-9ec0-092a2ed3e5d3"
   },
   "outputs": [
    {
     "name": "stdout",
     "output_type": "stream",
     "text": [
      "[1, 'strings', [1, 2, 3]]\n"
     ]
    }
   ],
   "source": [
    "print(l)"
   ]
  },
  {
   "cell_type": "markdown",
   "metadata": {
    "id": "kFYUU9qmkAV_"
   },
   "source": [
    "**Observation**\n",
    "\n",
    "The list 'l' contains an integer, a string and another list as elements."
   ]
  },
  {
   "cell_type": "markdown",
   "metadata": {
    "id": "DsD-bsHhkS34"
   },
   "source": [
    "There are two ways to traverse through the list elements.\n",
    "- Access the elements in a list using a loop \n",
    "- Access the elements in an index-based approach"
   ]
  },
  {
   "cell_type": "markdown",
   "metadata": {
    "id": "Jp1PblK9knaw"
   },
   "source": [
    "Let's access the elements using a for loop.\n",
    "- Iterate variable 'i' through list 'l'\n",
    "- print i"
   ]
  },
  {
   "cell_type": "code",
   "execution_count": null,
   "metadata": {
    "id": "zv23WujWDeVy",
    "outputId": "200e7809-a60e-40bf-8c8d-a9eb7e535de9"
   },
   "outputs": [
    {
     "name": "stdout",
     "output_type": "stream",
     "text": [
      "1\n",
      "strings\n",
      "[1, 2, 3]\n"
     ]
    }
   ],
   "source": [
    "for i in l:\n",
    "    print(i)"
   ]
  },
  {
   "cell_type": "markdown",
   "metadata": {
    "id": "fN0bHEaJk2Yb"
   },
   "source": [
    "Now, let's access the data using the index method.\n",
    "- Iterate i through the index of the list 'l', which is generated by the range() function\n",
    "- Print the element in the i<sup>th</sup> location of the list 'l'"
   ]
  },
  {
   "cell_type": "code",
   "execution_count": null,
   "metadata": {
    "id": "2YPM2XoFDeVy",
    "outputId": "4ff73284-9858-48d0-9da6-02abe6addd67"
   },
   "outputs": [
    {
     "name": "stdout",
     "output_type": "stream",
     "text": [
      "1\n",
      "strings\n",
      "[1, 2, 3]\n"
     ]
    }
   ],
   "source": [
    "for i in range(len(l)):\n",
    "    print(l[i])"
   ]
  },
  {
   "cell_type": "markdown",
   "metadata": {
    "id": "5RT1EEqTmu1U"
   },
   "source": [
    "**Observation**\n",
    "\n",
    "The elements of the list are 1, strings and [1,2,3]."
   ]
  },
  {
   "cell_type": "markdown",
   "metadata": {
    "id": "ICQvAFtPMpCY"
   },
   "source": [
    "## Step 3: Tuples\n",
    "\n",
    "Tuples are similar to lists but are immutable, meaning that they cannot be modified once created.\n",
    "- Create a tuple t with 'apple', 'bottle' and 'car' as elements\n"
   ]
  },
  {
   "cell_type": "code",
   "execution_count": null,
   "metadata": {
    "id": "haLV56ILDeVy"
   },
   "outputs": [],
   "source": [
    "t = ('apple','bottle','car')"
   ]
  },
  {
   "cell_type": "markdown",
   "metadata": {
    "id": "x2kCXEMfnPAD"
   },
   "source": [
    "Now, let's find the type of 't'."
   ]
  },
  {
   "cell_type": "code",
   "execution_count": null,
   "metadata": {
    "id": "O_HWjLCMDeVy",
    "outputId": "4f0a3ffa-adbf-49dc-ab8e-abf9203e35f9"
   },
   "outputs": [
    {
     "data": {
      "text/plain": [
       "tuple"
      ]
     },
     "execution_count": 14,
     "metadata": {},
     "output_type": "execute_result"
    }
   ],
   "source": [
    "type(t)"
   ]
  },
  {
   "cell_type": "markdown",
   "metadata": {
    "id": "Xw8pFFFqnVR9"
   },
   "source": [
    "**Observation**\n",
    "\n",
    "The type of 't' is tuple."
   ]
  },
  {
   "cell_type": "markdown",
   "metadata": {
    "id": "5-T1zCB6nehB"
   },
   "source": [
    "Now, let's access the 0<sup>th</sup> element in the tuple. "
   ]
  },
  {
   "cell_type": "code",
   "execution_count": null,
   "metadata": {
    "id": "63QOcLgbDeVz",
    "outputId": "9b557513-75aa-482f-a361-5bd78d52b278"
   },
   "outputs": [
    {
     "data": {
      "text/plain": [
       "'apple'"
      ]
     },
     "execution_count": 15,
     "metadata": {},
     "output_type": "execute_result"
    }
   ],
   "source": [
    "t[0]"
   ]
  },
  {
   "cell_type": "markdown",
   "metadata": {
    "id": "uUc234AylQFg"
   },
   "source": [
    "**Observation**\n",
    "\n",
    "- The first element of the tuple, which is in 0<sup>th</sup> index, is 'apple'."
   ]
  },
  {
   "cell_type": "markdown",
   "metadata": {
    "id": "jcINimPXo3Ol"
   },
   "source": [
    "Now, let's try to update the value of the 0<sup>th</sup> location in the tuple."
   ]
  },
  {
   "cell_type": "code",
   "execution_count": null,
   "metadata": {
    "id": "ZYp_NgG1DeVz",
    "outputId": "1cca7146-5bf8-4768-959e-72ff1f6d6a59"
   },
   "outputs": [
    {
     "ename": "TypeError",
     "evalue": "'tuple' object does not support item assignment",
     "output_type": "error",
     "traceback": [
      "\u001b[0;31m---------------------------------------------------------------------------\u001b[0m",
      "\u001b[0;31mTypeError\u001b[0m                                 Traceback (most recent call last)",
      "\u001b[0;32m<ipython-input-16-f153453cffd2>\u001b[0m in \u001b[0;36m<module>\u001b[0;34m\u001b[0m\n\u001b[0;32m----> 1\u001b[0;31m \u001b[0mt\u001b[0m\u001b[0;34m[\u001b[0m\u001b[0;36m0\u001b[0m\u001b[0;34m]\u001b[0m \u001b[0;34m=\u001b[0m \u001b[0;34m'dog'\u001b[0m\u001b[0;34m\u001b[0m\u001b[0;34m\u001b[0m\u001b[0m\n\u001b[0m",
      "\u001b[0;31mTypeError\u001b[0m: 'tuple' object does not support item assignment"
     ]
    }
   ],
   "source": [
    "t[0] = 'dog'"
   ]
  },
  {
   "cell_type": "markdown",
   "metadata": {
    "id": "ZEbtzPzRldUv"
   },
   "source": [
    "**Observation**\n",
    "\n",
    "Since tuples are immutable, changing the value would throw an error."
   ]
  },
  {
   "cell_type": "markdown",
   "metadata": {
    "id": "9TzcHC4xlsHI"
   },
   "source": [
    "- Create a tuple with length 1"
   ]
  },
  {
   "cell_type": "code",
   "execution_count": null,
   "metadata": {
    "id": "7wa09yUNDeVz"
   },
   "outputs": [],
   "source": [
    "t = ('apple',)"
   ]
  },
  {
   "cell_type": "code",
   "execution_count": null,
   "metadata": {
    "colab": {
     "base_uri": "https://localhost:8080/"
    },
    "executionInfo": {
     "elapsed": 3,
     "status": "ok",
     "timestamp": 1683200568515,
     "user": {
      "displayName": "IFFATH ZAKIR",
      "userId": "08841559175934332701"
     },
     "user_tz": -330
    },
    "id": "gtd-6xbqDeV0",
    "outputId": "ff082b45-78ca-44c6-ea86-4523beff764f"
   },
   "outputs": [
    {
     "data": {
      "text/plain": [
       "1"
      ]
     },
     "execution_count": 14,
     "metadata": {},
     "output_type": "execute_result"
    }
   ],
   "source": [
    "len(t)"
   ]
  },
  {
   "cell_type": "markdown",
   "metadata": {
    "id": "dWpbgsjxrbzF"
   },
   "source": [
    "**Observation**\n",
    "\n",
    "The length of tuple 't' is 1."
   ]
  },
  {
   "cell_type": "markdown",
   "metadata": {
    "id": "bClxbaU0MxTI"
   },
   "source": [
    "## Step 4: Dictionaries\n",
    "\n",
    "Dictionaries are key-value pairs and can be defined using curly brackets with key-value pairs inside.\n",
    "\n",
    "- Create a dictionary 'd' with key values 'a' and 'b'.\n"
   ]
  },
  {
   "cell_type": "code",
   "execution_count": null,
   "metadata": {
    "id": "be6I6nqoDeV0"
   },
   "outputs": [],
   "source": [
    "d = {'a':1,'b':2}"
   ]
  },
  {
   "cell_type": "markdown",
   "metadata": {
    "id": "vuyO2Ae9sXR1"
   },
   "source": [
    "\\Let's access the value of keys 'a' and 'b' from dictionary 'd'."
   ]
  },
  {
   "cell_type": "code",
   "execution_count": null,
   "metadata": {
    "colab": {
     "base_uri": "https://localhost:8080/"
    },
    "executionInfo": {
     "elapsed": 3,
     "status": "ok",
     "timestamp": 1683200819502,
     "user": {
      "displayName": "IFFATH ZAKIR",
      "userId": "08841559175934332701"
     },
     "user_tz": -330
    },
    "id": "w1iqhBq9DeV0",
    "outputId": "817c9afe-2659-4fb4-b5a2-e65d684797f8"
   },
   "outputs": [
    {
     "data": {
      "text/plain": [
       "1"
      ]
     },
     "execution_count": 17,
     "metadata": {},
     "output_type": "execute_result"
    }
   ],
   "source": [
    "d['a']"
   ]
  },
  {
   "cell_type": "code",
   "execution_count": null,
   "metadata": {
    "colab": {
     "base_uri": "https://localhost:8080/"
    },
    "executionInfo": {
     "elapsed": 3,
     "status": "ok",
     "timestamp": 1683200821085,
     "user": {
      "displayName": "IFFATH ZAKIR",
      "userId": "08841559175934332701"
     },
     "user_tz": -330
    },
    "id": "5r1rx_4NDeV0",
    "outputId": "21d8be34-fdf3-4a30-cd34-96327e4b5692"
   },
   "outputs": [
    {
     "data": {
      "text/plain": [
       "2"
      ]
     },
     "execution_count": 18,
     "metadata": {},
     "output_type": "execute_result"
    }
   ],
   "source": [
    "d['b']"
   ]
  },
  {
   "cell_type": "markdown",
   "metadata": {
    "id": "m-MYHjoJmQaf"
   },
   "source": [
    "**Observation**\n",
    "\n",
    "Dictionaries can be indexed using keys. Hence:\n",
    "\n",
    "- d['a'] gives 1\n",
    "\n",
    "- d['b'] gives 2"
   ]
  },
  {
   "cell_type": "markdown",
   "metadata": {
    "id": "PON0NyrjmhGv"
   },
   "source": [
    "Let's add a new key-value pair to the dictionary."
   ]
  },
  {
   "cell_type": "code",
   "execution_count": null,
   "metadata": {
    "id": "-gBhHVivDeV0"
   },
   "outputs": [],
   "source": [
    "d['c']=3"
   ]
  },
  {
   "cell_type": "code",
   "execution_count": null,
   "metadata": {
    "colab": {
     "base_uri": "https://localhost:8080/"
    },
    "executionInfo": {
     "elapsed": 516,
     "status": "ok",
     "timestamp": 1683200854750,
     "user": {
      "displayName": "IFFATH ZAKIR",
      "userId": "08841559175934332701"
     },
     "user_tz": -330
    },
    "id": "SnbC8ESRDeV1",
    "outputId": "95fa7a89-7a54-4272-e215-9ef45b13cbfb"
   },
   "outputs": [
    {
     "data": {
      "text/plain": [
       "{'a': 1, 'b': 2, 'c': 3}"
      ]
     },
     "execution_count": 22,
     "metadata": {},
     "output_type": "execute_result"
    }
   ],
   "source": [
    "d"
   ]
  },
  {
   "cell_type": "markdown",
   "metadata": {
    "id": "iMP9P1lzmqEP"
   },
   "source": [
    "**Observation**\n",
    "\n",
    "A new key value pair 'c': 3 is added to the dictionary."
   ]
  },
  {
   "cell_type": "markdown",
   "metadata": {
    "id": "C9o5rrbVvKyg"
   },
   "source": [
    "Now, let's find all the items from dictionary 'd'."
   ]
  },
  {
   "cell_type": "code",
   "execution_count": null,
   "metadata": {
    "colab": {
     "base_uri": "https://localhost:8080/"
    },
    "executionInfo": {
     "elapsed": 1079,
     "status": "ok",
     "timestamp": 1683200859954,
     "user": {
      "displayName": "IFFATH ZAKIR",
      "userId": "08841559175934332701"
     },
     "user_tz": -330
    },
    "id": "afWrI8VUDeV1",
    "outputId": "4845d281-e4df-4de0-d84e-7f5338e55b22"
   },
   "outputs": [
    {
     "data": {
      "text/plain": [
       "dict_items([('a', 1), ('b', 2), ('c', 3)])"
      ]
     },
     "execution_count": 23,
     "metadata": {},
     "output_type": "execute_result"
    }
   ],
   "source": [
    "d.items()"
   ]
  },
  {
   "cell_type": "markdown",
   "metadata": {
    "id": "IrDujTsevZEr"
   },
   "source": [
    "Now, let's find all the keys from dictionary 'd'."
   ]
  },
  {
   "cell_type": "code",
   "execution_count": null,
   "metadata": {
    "id": "8A2Yi-WnDeV1",
    "outputId": "aab3ca36-ba6a-464a-fac1-c47db01fc64a"
   },
   "outputs": [
    {
     "data": {
      "text/plain": [
       "dict_keys(['a', 'b', 'c'])"
      ]
     },
     "execution_count": 25,
     "metadata": {},
     "output_type": "execute_result"
    }
   ],
   "source": [
    "d.keys()"
   ]
  },
  {
   "cell_type": "markdown",
   "metadata": {
    "id": "PLQP_KA8vgel"
   },
   "source": [
    "Now, let's find all the values from dictionary 'd'."
   ]
  },
  {
   "cell_type": "code",
   "execution_count": null,
   "metadata": {
    "id": "uGgCQSuIDeV1",
    "outputId": "fdc2d8e2-f786-440c-cbde-57d8570929c4"
   },
   "outputs": [
    {
     "data": {
      "text/plain": [
       "dict_values([1, 2, 3])"
      ]
     },
     "execution_count": 26,
     "metadata": {},
     "output_type": "execute_result"
    }
   ],
   "source": [
    "d.values()"
   ]
  },
  {
   "cell_type": "markdown",
   "metadata": {
    "id": "YLGadnSjm1sn"
   },
   "source": [
    "**Observation** \n",
    "\n",
    "- d.items() returns the list of the items present in the dictionary.\n",
    "- d.keys() returns only the keys.\n",
    "- d.values() returns only the values.\n"
   ]
  },
  {
   "cell_type": "markdown",
   "metadata": {},
   "source": [
    "## Step 4: Sets"
   ]
  },
  {
   "cell_type": "code",
   "execution_count": null,
   "metadata": {},
   "outputs": [],
   "source": []
  }
 ],
 "metadata": {
  "colab": {
   "collapsed_sections": [
    "vpKPWbaUMS8s"
   ],
   "provenance": []
  },
  "kernelspec": {
   "display_name": "Python 3 (ipykernel)",
   "language": "python",
   "name": "python3"
  },
  "language_info": {
   "codemirror_mode": {
    "name": "ipython",
    "version": 3
   },
   "file_extension": ".py",
   "mimetype": "text/x-python",
   "name": "python",
   "nbconvert_exporter": "python",
   "pygments_lexer": "ipython3",
   "version": "3.8.2rc2"
  }
 },
 "nbformat": 4,
 "nbformat_minor": 4
}
