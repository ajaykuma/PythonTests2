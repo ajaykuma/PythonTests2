{
 "cells": [
  {
   "cell_type": "markdown",
   "metadata": {
    "id": "IvqsBNaVFAJT"
   },
   "source": [
    "## __Reading and Writing CSV Files__\n",
    "\n",
    "Let's look at how to read and write CSV files. There are two methods that we can use. One is by using the CSV library and the other is by using pandas. \n"
   ]
  },
  {
   "cell_type": "markdown",
   "metadata": {
    "id": "YXUEREjVJLDi"
   },
   "source": [
    "## Working with CSV\n",
    "## Step 1: Import the CSV Library and Read the CSV File\n",
    "\n",
    "Let's explore the CSV library.\n",
    "\n",
    "- Import the CSV library\n",
    "- Open the file Sample_File.csv, and mention the filename as argument to the open() function\n",
    "- Load the file using the csv.reader() method\n",
    "- Print the contents of the file using a for loop\n"
   ]
  },
  {
   "cell_type": "code",
   "execution_count": 47,
   "metadata": {
    "id": "7093XfCl7kb6"
   },
   "outputs": [],
   "source": [
    "import csv\n",
    "csvFile = open('../../Datasets/Sample_data.csv')\n",
    "csvReader = csv.reader(csvFile)"
   ]
  },
  {
   "cell_type": "markdown",
   "metadata": {
    "id": "nZgHrX28ze3h"
   },
   "source": [
    "- csvReader is an object of csv.reader()\n",
    "- Check the type of csvReader object\n",
    "- This step is not necessary but can be helpful for verifying that the file was loaded correctly"
   ]
  },
  {
   "cell_type": "code",
   "execution_count": 48,
   "metadata": {
    "colab": {
     "base_uri": "https://localhost:8080/"
    },
    "executionInfo": {
     "elapsed": 8,
     "status": "ok",
     "timestamp": 1682554731471,
     "user": {
      "displayName": "Winnie Aravindan",
      "userId": "17757356026009537686"
     },
     "user_tz": -330
    },
    "id": "cfxgLI1F7kb8",
    "outputId": "c38200f2-406a-482f-c28d-1b25f96c8227"
   },
   "outputs": [
    {
     "data": {
      "text/plain": [
       "_csv.reader"
      ]
     },
     "execution_count": 48,
     "metadata": {},
     "output_type": "execute_result"
    }
   ],
   "source": [
    "type(csvReader)"
   ]
  },
  {
   "cell_type": "markdown",
   "metadata": {
    "id": "TbyyEZy5F8cx"
   },
   "source": [
    "**Observation**\n",
    "\n",
    "- The type of csvReader is _csv.reader."
   ]
  },
  {
   "cell_type": "markdown",
   "metadata": {
    "id": "_FYfAQaL1EO5"
   },
   "source": [
    "Now let us print the contents of the file using a for loop\n",
    "* Declare a variable that iterates through the csvReader\n",
    "* Print the line"
   ]
  },
  {
   "cell_type": "code",
   "execution_count": 49,
   "metadata": {
    "colab": {
     "base_uri": "https://localhost:8080/"
    },
    "executionInfo": {
     "elapsed": 7,
     "status": "ok",
     "timestamp": 1682554731472,
     "user": {
      "displayName": "Winnie Aravindan",
      "userId": "17757356026009537686"
     },
     "user_tz": -330
    },
    "id": "oIyx10Pj7kb9",
    "outputId": "54515d50-c85b-4a2a-f885-2fb29f43691b"
   },
   "outputs": [
    {
     "name": "stdout",
     "output_type": "stream",
     "text": [
      "['name', 'age', 'location', 'phpref']\n",
      "['john', '35', 'germany', 'iphone']\n",
      "['mary', '23', 'france', 'motorola']\n",
      "['johnie', '40', 'germany', 'samsung']\n"
     ]
    }
   ],
   "source": [
    "for line in csvReader:\n",
    "    print(line)"
   ]
  },
  {
   "cell_type": "markdown",
   "metadata": {
    "id": "x3nPxjA7JWeq"
   },
   "source": [
    "## Step 2: Distinguish the Header and the Rows in the CSV File\n",
    "\n",
    "- Open the CSV file for reading using the **with** and **open()** function\n",
    "- Read the CSV file using the **reader()** function \n",
    "- Initiate the variable to **count** the rows\n",
    "- Traverse through the lines in csvReader\n",
    "- Check if the **count** is 0 and print the line as header if it is\n",
    "- Else, print it as a row\n",
    "- Increment the **count** by one\n",
    "\n"
   ]
  },
  {
   "cell_type": "code",
   "execution_count": 52,
   "metadata": {
    "colab": {
     "base_uri": "https://localhost:8080/"
    },
    "executionInfo": {
     "elapsed": 5,
     "status": "ok",
     "timestamp": 1682554731472,
     "user": {
      "displayName": "Winnie Aravindan",
      "userId": "17757356026009537686"
     },
     "user_tz": -330
    },
    "id": "uTyhWdFn7kb-",
    "outputId": "9b62c1d8-8c88-4fc2-9ac2-4fa13bd2fd1d"
   },
   "outputs": [
    {
     "name": "stdout",
     "output_type": "stream",
     "text": [
      "Header: ['name', 'age', 'location', 'phpref']\n",
      "Row: ['john', '35', 'germany', 'iphone']\n",
      "Row: ['mary', '23', 'france', 'motorola']\n",
      "Row: ['johnie', '40', 'germany', 'samsung']\n",
      "Row: ['Aarbhiii', '27', 'italy', 'iphone']\n"
     ]
    }
   ],
   "source": [
    "with open('../../Datasets/Sample_data.csv','r') as csvFile:\n",
    "    csvReader = csv.reader(csvFile)\n",
    "    count = 0\n",
    "    for line in csvReader:\n",
    "        if count == 0:\n",
    "            print('Header: '+str(line))\n",
    "        else:\n",
    "            print('Row: '+str(line))\n",
    "        count+=1"
   ]
  },
  {
   "cell_type": "markdown",
   "metadata": {
    "id": "e19_Ivgz7Hp4"
   },
   "source": [
    "**Observation**\n",
    "* The first row in a CSV file is always a header. \n",
    "* All other lines are rows."
   ]
  },
  {
   "cell_type": "markdown",
   "metadata": {
    "id": "yHrNccA8Jk15"
   },
   "source": [
    "## Step 3: Write a New Row to the CSV File\n",
    "\n",
    "- Open the CSV file for writing using **with** and **open()** functions\n",
    "- Create a writer object using the **writer()** function\n",
    "- Write a new row to the CSV file using the **writerow()** function, and mention the row to be written as an argument to the **writerow()** function\n"
   ]
  },
  {
   "cell_type": "code",
   "execution_count": 51,
   "metadata": {
    "id": "pNAU4BxC7kb_"
   },
   "outputs": [],
   "source": [
    "with open('../../Datasets/Sample_data.csv','a',newline = '') as csvFile:\n",
    "    csvWriter = csv.writer(csvFile)\n",
    "    csvWriter.writerow(['Aarbhiii',27,'italy','iphone'])"
   ]
  },
  {
   "cell_type": "markdown",
   "metadata": {
    "id": "PF_TvEbW7kcA"
   },
   "source": [
    "## Step 4: Use the Pandas Library to Read and Modify CSV Files\n",
    "\n",
    "- Import the pandas library\n",
    "- Read the CSV file into a pandas DataFrame object using the read_csv() function\n",
    "\n"
   ]
  },
  {
   "cell_type": "code",
   "execution_count": 53,
   "metadata": {
    "id": "M4-I5HNF7kcC"
   },
   "outputs": [],
   "source": [
    "import pandas as pd\n",
    "\n",
    "df = pd.read_csv('../../Datasets/Sample_data.csv')\n",
    "\n"
   ]
  },
  {
   "cell_type": "markdown",
   "metadata": {
    "id": "oyw15itG9miT"
   },
   "source": [
    "Print the contents of the DataFrame to the console.\n",
    "This step is not strictly necessary, but it can be helpful for verifying that the DataFrame was loaded correctly"
   ]
  },
  {
   "cell_type": "code",
   "execution_count": 54,
   "metadata": {
    "colab": {
     "base_uri": "https://localhost:8080/"
    },
    "executionInfo": {
     "elapsed": 16,
     "status": "ok",
     "timestamp": 1682554731905,
     "user": {
      "displayName": "Winnie Aravindan",
      "userId": "17757356026009537686"
     },
     "user_tz": -330
    },
    "id": "OIZvg9LS7kcF",
    "outputId": "f0cefaab-95f9-443c-ac5d-37fe3cfba938"
   },
   "outputs": [
    {
     "data": {
      "text/html": [
       "<div>\n",
       "<style scoped>\n",
       "    .dataframe tbody tr th:only-of-type {\n",
       "        vertical-align: middle;\n",
       "    }\n",
       "\n",
       "    .dataframe tbody tr th {\n",
       "        vertical-align: top;\n",
       "    }\n",
       "\n",
       "    .dataframe thead th {\n",
       "        text-align: right;\n",
       "    }\n",
       "</style>\n",
       "<table border=\"1\" class=\"dataframe\">\n",
       "  <thead>\n",
       "    <tr style=\"text-align: right;\">\n",
       "      <th></th>\n",
       "      <th>name</th>\n",
       "      <th>age</th>\n",
       "      <th>location</th>\n",
       "      <th>phpref</th>\n",
       "    </tr>\n",
       "  </thead>\n",
       "  <tbody>\n",
       "    <tr>\n",
       "      <th>0</th>\n",
       "      <td>john</td>\n",
       "      <td>35</td>\n",
       "      <td>germany</td>\n",
       "      <td>iphone</td>\n",
       "    </tr>\n",
       "    <tr>\n",
       "      <th>1</th>\n",
       "      <td>mary</td>\n",
       "      <td>23</td>\n",
       "      <td>france</td>\n",
       "      <td>motorola</td>\n",
       "    </tr>\n",
       "    <tr>\n",
       "      <th>2</th>\n",
       "      <td>johnie</td>\n",
       "      <td>40</td>\n",
       "      <td>germany</td>\n",
       "      <td>samsung</td>\n",
       "    </tr>\n",
       "    <tr>\n",
       "      <th>3</th>\n",
       "      <td>Aarbhiii</td>\n",
       "      <td>27</td>\n",
       "      <td>italy</td>\n",
       "      <td>iphone</td>\n",
       "    </tr>\n",
       "  </tbody>\n",
       "</table>\n",
       "</div>"
      ],
      "text/plain": [
       "       name  age location    phpref\n",
       "0      john   35  germany    iphone\n",
       "1      mary   23   france  motorola\n",
       "2    johnie   40  germany   samsung\n",
       "3  Aarbhiii   27    italy    iphone"
      ]
     },
     "execution_count": 54,
     "metadata": {},
     "output_type": "execute_result"
    }
   ],
   "source": [
    "df"
   ]
  },
  {
   "cell_type": "markdown",
   "metadata": {
    "id": "EUygA6y29tyq"
   },
   "source": [
    "**Observation**\n",
    "* The DataFrame has a tabular structure with rows and columns.\n",
    "* The first column represents the index of the rows. "
   ]
  },
  {
   "cell_type": "markdown",
   "metadata": {
    "id": "lewM0Y3EKApM"
   },
   "source": [
    "## Step 5: Add a New Row to the DataFrame\n",
    "\n",
    "To add a new row to the DataFrame:\n",
    "- Locate the last row index of the DataFrame using the loc[ ] method\n",
    "- Assign the new row item list to this location\n",
    "\n"
   ]
  },
  {
   "cell_type": "code",
   "execution_count": 55,
   "metadata": {
    "id": "iZbzrbuB7kcG"
   },
   "outputs": [],
   "source": [
    "\n",
    "df.loc[len(df.index)] = ['Gane',20,'Romania','sony']"
   ]
  },
  {
   "cell_type": "markdown",
   "metadata": {
    "id": "Y4eX9Ya2-7mD"
   },
   "source": [
    "Print the updated contents of the DataFrame to the console:"
   ]
  },
  {
   "cell_type": "code",
   "execution_count": 56,
   "metadata": {
    "colab": {
     "base_uri": "https://localhost:8080/"
    },
    "executionInfo": {
     "elapsed": 11,
     "status": "ok",
     "timestamp": 1682554731905,
     "user": {
      "displayName": "Winnie Aravindan",
      "userId": "17757356026009537686"
     },
     "user_tz": -330
    },
    "id": "_RhL0JHA7kcG",
    "outputId": "78991ab4-2508-412d-9252-e2ad4878ca12"
   },
   "outputs": [
    {
     "data": {
      "text/html": [
       "<div>\n",
       "<style scoped>\n",
       "    .dataframe tbody tr th:only-of-type {\n",
       "        vertical-align: middle;\n",
       "    }\n",
       "\n",
       "    .dataframe tbody tr th {\n",
       "        vertical-align: top;\n",
       "    }\n",
       "\n",
       "    .dataframe thead th {\n",
       "        text-align: right;\n",
       "    }\n",
       "</style>\n",
       "<table border=\"1\" class=\"dataframe\">\n",
       "  <thead>\n",
       "    <tr style=\"text-align: right;\">\n",
       "      <th></th>\n",
       "      <th>name</th>\n",
       "      <th>age</th>\n",
       "      <th>location</th>\n",
       "      <th>phpref</th>\n",
       "    </tr>\n",
       "  </thead>\n",
       "  <tbody>\n",
       "    <tr>\n",
       "      <th>0</th>\n",
       "      <td>john</td>\n",
       "      <td>35</td>\n",
       "      <td>germany</td>\n",
       "      <td>iphone</td>\n",
       "    </tr>\n",
       "    <tr>\n",
       "      <th>1</th>\n",
       "      <td>mary</td>\n",
       "      <td>23</td>\n",
       "      <td>france</td>\n",
       "      <td>motorola</td>\n",
       "    </tr>\n",
       "    <tr>\n",
       "      <th>2</th>\n",
       "      <td>johnie</td>\n",
       "      <td>40</td>\n",
       "      <td>germany</td>\n",
       "      <td>samsung</td>\n",
       "    </tr>\n",
       "    <tr>\n",
       "      <th>3</th>\n",
       "      <td>Aarbhiii</td>\n",
       "      <td>27</td>\n",
       "      <td>italy</td>\n",
       "      <td>iphone</td>\n",
       "    </tr>\n",
       "    <tr>\n",
       "      <th>4</th>\n",
       "      <td>Gane</td>\n",
       "      <td>20</td>\n",
       "      <td>Romania</td>\n",
       "      <td>sony</td>\n",
       "    </tr>\n",
       "  </tbody>\n",
       "</table>\n",
       "</div>"
      ],
      "text/plain": [
       "       name  age location    phpref\n",
       "0      john   35  germany    iphone\n",
       "1      mary   23   france  motorola\n",
       "2    johnie   40  germany   samsung\n",
       "3  Aarbhiii   27    italy    iphone\n",
       "4      Gane   20  Romania      sony"
      ]
     },
     "execution_count": 56,
     "metadata": {},
     "output_type": "execute_result"
    }
   ],
   "source": [
    "df"
   ]
  },
  {
   "cell_type": "markdown",
   "metadata": {
    "id": "Nu3E_7lr_gle"
   },
   "source": [
    "**Observation**\n",
    "* The row is added as the last row of the DataFrame."
   ]
  },
  {
   "cell_type": "markdown",
   "metadata": {
    "id": "xWnuAJdyKI9v"
   },
   "source": [
    "## Step 6: Write the Updated DataFrame Back to the CSV File\n",
    "\n",
    "- Use the to_csv() function to write the contents of the DataFrame to the CSV file\n"
   ]
  },
  {
   "cell_type": "code",
   "execution_count": 57,
   "metadata": {
    "id": "9Y2qj87K7kcH"
   },
   "outputs": [],
   "source": [
    "#The \"index = False\" argument is used to skip writing the index that has been created by pandas internally to the CSV file.\n",
    "df.to_csv('../../Datasets/Sample_dataO.csv',index = False)"
   ]
  },
  {
   "cell_type": "markdown",
   "metadata": {},
   "source": [
    "## Working with Other formats"
   ]
  },
  {
   "cell_type": "code",
   "execution_count": null,
   "metadata": {},
   "outputs": [],
   "source": []
  }
 ],
 "metadata": {
  "colab": {
   "provenance": []
  },
  "kernelspec": {
   "display_name": "Python 3 (ipykernel)",
   "language": "python",
   "name": "python3"
  },
  "language_info": {
   "codemirror_mode": {
    "name": "ipython",
    "version": 3
   },
   "file_extension": ".py",
   "mimetype": "text/x-python",
   "name": "python",
   "nbconvert_exporter": "python",
   "pygments_lexer": "ipython3",
   "version": "3.8.2rc2"
  }
 },
 "nbformat": 4,
 "nbformat_minor": 4
}
