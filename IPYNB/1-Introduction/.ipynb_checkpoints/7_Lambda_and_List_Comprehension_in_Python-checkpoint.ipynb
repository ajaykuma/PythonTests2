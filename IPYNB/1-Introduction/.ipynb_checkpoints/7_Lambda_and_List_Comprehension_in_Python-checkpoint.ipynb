{
 "cells": [
  {
   "cell_type": "markdown",
   "metadata": {
    "id": "ncC_D5qzG5bZ"
   },
   "source": [
    "## Lambda and List Comprehension in Python\n",
    "\n",
    "In Python, Lambda is a small, anonymous function without a name, and it can take many arguments, but it can have only one expression. \n",
    "\n",
    "- Let's see the syntax of lambda:\n",
    "\n",
    "**Syntax:** lambda arguments: expression\n",
    "\n",
    "- Lambda is useful when it is required for a short period of time."
   ]
  },
  {
   "cell_type": "markdown",
   "metadata": {
    "id": "5vqpEadEFTpZ"
   },
   "source": [
    "## Step 1: Lambda Functions\n",
    "\n",
    "\n",
    "\n",
    "- Define a lambda function to return the square of a number "
   ]
  },
  {
   "cell_type": "code",
   "execution_count": 1,
   "metadata": {
    "id": "xH3oNcngXOgF"
   },
   "outputs": [],
   "source": [
    "s = lambda x:x*x"
   ]
  },
  {
   "cell_type": "markdown",
   "metadata": {
    "id": "R_gfk0F4_h92"
   },
   "source": [
    "Let's call the lambda function with the argument 2. It returns the square of 2: (2*2 = 4)."
   ]
  },
  {
   "cell_type": "code",
   "execution_count": 2,
   "metadata": {
    "colab": {
     "base_uri": "https://localhost:8080/"
    },
    "executionInfo": {
     "elapsed": 5,
     "status": "ok",
     "timestamp": 1680608941898,
     "user": {
      "displayName": "Navya Kannan",
      "userId": "14506951520752863940"
     },
     "user_tz": -330
    },
    "id": "Kppq_nkKXOgG",
    "outputId": "02fd3975-0a8e-4f8e-dcb6-5ccae19f4df1"
   },
   "outputs": [
    {
     "data": {
      "text/plain": [
       "4"
      ]
     },
     "execution_count": 2,
     "metadata": {},
     "output_type": "execute_result"
    }
   ],
   "source": [
    "s(2)"
   ]
  },
  {
   "cell_type": "markdown",
   "metadata": {
    "id": "FnOhsg29_r4p"
   },
   "source": [
    "Let's call the lambda function with the argument 9."
   ]
  },
  {
   "cell_type": "code",
   "execution_count": 3,
   "metadata": {
    "colab": {
     "base_uri": "https://localhost:8080/"
    },
    "executionInfo": {
     "elapsed": 497,
     "status": "ok",
     "timestamp": 1680608944812,
     "user": {
      "displayName": "Navya Kannan",
      "userId": "14506951520752863940"
     },
     "user_tz": -330
    },
    "id": "PEPUS8NMXOgH",
    "outputId": "32c0d7dc-1371-403a-f7c4-232f5bcc6004"
   },
   "outputs": [
    {
     "data": {
      "text/plain": [
       "81"
      ]
     },
     "execution_count": 3,
     "metadata": {},
     "output_type": "execute_result"
    }
   ],
   "source": [
    "s(9)"
   ]
  },
  {
   "cell_type": "markdown",
   "metadata": {
    "id": "zzHpxJcgF9yH"
   },
   "source": [
    "Now, let's define a lambda function to return the sum of two numbers and call it with arguments 4 and 5.\n",
    "\n",
    "\n",
    "\n",
    "\n"
   ]
  },
  {
   "cell_type": "code",
   "execution_count": 4,
   "metadata": {
    "id": "ziVtWhGtXOgH"
   },
   "outputs": [],
   "source": [
    "sum_num = lambda x,y:x+y"
   ]
  },
  {
   "cell_type": "code",
   "execution_count": 5,
   "metadata": {
    "colab": {
     "base_uri": "https://localhost:8080/"
    },
    "executionInfo": {
     "elapsed": 413,
     "status": "ok",
     "timestamp": 1680608952700,
     "user": {
      "displayName": "Navya Kannan",
      "userId": "14506951520752863940"
     },
     "user_tz": -330
    },
    "id": "XHbvviEnXOgH",
    "outputId": "8ef6c44e-2921-4e61-f6a3-03b1b97fed28"
   },
   "outputs": [
    {
     "data": {
      "text/plain": [
       "9"
      ]
     },
     "execution_count": 5,
     "metadata": {},
     "output_type": "execute_result"
    }
   ],
   "source": [
    "sum_num(4,5)"
   ]
  },
  {
   "cell_type": "markdown",
   "metadata": {
    "id": "uIKNx1pwA2Tp"
   },
   "source": [
    "**Observation**\n",
    "\n",
    "The lambda function gives the sum of 4 and 5."
   ]
  },
  {
   "cell_type": "markdown",
   "metadata": {
    "id": "SjFe2h4tXOgI"
   },
   "source": [
    "## Step 2: List Comprehensions\n",
    "\n",
    "List Comprehensions provide a concise way to create lists. Let's create a list using the list comprehension method.\n",
    "\n",
    "List comprehension offers a shorter syntax instead of using large **for** loops.\n",
    "\n",
    "- Define an empty list\n",
    "- Append items to the list using a traditional **for** loop\n"
   ]
  },
  {
   "cell_type": "code",
   "execution_count": 6,
   "metadata": {
    "id": "Nqp2CGyzXOgJ"
   },
   "outputs": [],
   "source": [
    "l = []\n",
    "for i in range(10):\n",
    "    l.append(i)"
   ]
  },
  {
   "cell_type": "markdown",
   "metadata": {
    "id": "ojB-kNdNBd6y"
   },
   "source": [
    "Now, let's display the list elements."
   ]
  },
  {
   "cell_type": "code",
   "execution_count": 7,
   "metadata": {
    "colab": {
     "base_uri": "https://localhost:8080/"
    },
    "executionInfo": {
     "elapsed": 6,
     "status": "ok",
     "timestamp": 1683249470840,
     "user": {
      "displayName": "IFFATH ZAKIR",
      "userId": "08841559175934332701"
     },
     "user_tz": -330
    },
    "id": "gJUETFheXOgJ",
    "outputId": "393360ca-b46e-41d0-8f55-6aad74353d20"
   },
   "outputs": [
    {
     "data": {
      "text/plain": [
       "[0, 1, 2, 3, 4, 5, 6, 7, 8, 9]"
      ]
     },
     "execution_count": 7,
     "metadata": {},
     "output_type": "execute_result"
    }
   ],
   "source": [
    "l"
   ]
  },
  {
   "cell_type": "markdown",
   "metadata": {
    "id": "m2cUVl4rBnMw"
   },
   "source": [
    "Now, let's create a list with elements from 0 to 9 using the list comprehension method.\n",
    "\n",
    "- Declare a list **l**\n",
    "- Inside the square bracket, declare the variable **x** for iteration\n",
    "- Each **x** iterates through the numbers 0 to 9 that are generated by **range() **function\n"
   ]
  },
  {
   "cell_type": "code",
   "execution_count": 8,
   "metadata": {
    "id": "PB663aukXOgK"
   },
   "outputs": [],
   "source": [
    "l = [x for x in range(10)]"
   ]
  },
  {
   "cell_type": "markdown",
   "metadata": {
    "id": "VW8_NLPkCdWm"
   },
   "source": [
    "Now, let's display the list **l**."
   ]
  },
  {
   "cell_type": "code",
   "execution_count": 9,
   "metadata": {
    "id": "B_XHy3poXOgK",
    "outputId": "11ccd35b-3f63-4fcd-8c5b-ec225a82683c"
   },
   "outputs": [
    {
     "data": {
      "text/plain": [
       "[0, 1, 2, 3, 4, 5, 6, 7, 8, 9]"
      ]
     },
     "execution_count": 9,
     "metadata": {},
     "output_type": "execute_result"
    }
   ],
   "source": [
    "l"
   ]
  },
  {
   "cell_type": "markdown",
   "metadata": {
    "id": "GQekQ2f1ChnU"
   },
   "source": [
    "**Observation**\n",
    "\n",
    "Numbers 0 to 9 is added to the list **l**."
   ]
  },
  {
   "cell_type": "markdown",
   "metadata": {
    "id": "HMzTmXJlGwyt"
   },
   "source": [
    "Now, let's create a list with even numbers from 0 to 9 using list comprehension with a conditional statement.\n",
    "\n",
    "- Define a variable **l**\n",
    "- Inside the square bracket do the following:\n",
    "     - Variable **x** iterates through numbers 0 to 9 \n",
    "     - Check **x** is an even number using the **if** statement"
   ]
  },
  {
   "cell_type": "code",
   "execution_count": 10,
   "metadata": {
    "id": "oT9kz1MZXOgK"
   },
   "outputs": [],
   "source": [
    "l = [x for x in range(10) if x%2==0 ]"
   ]
  },
  {
   "cell_type": "markdown",
   "metadata": {
    "id": "OcdVTDh_DPXB"
   },
   "source": [
    "Now, let's see what is inside list **l**."
   ]
  },
  {
   "cell_type": "code",
   "execution_count": 11,
   "metadata": {
    "id": "R8u7oGUtXOgL",
    "outputId": "075873ac-d9e8-4433-f7b4-31d0682f6fc4"
   },
   "outputs": [
    {
     "data": {
      "text/plain": [
       "[0, 2, 4, 6, 8]"
      ]
     },
     "execution_count": 11,
     "metadata": {},
     "output_type": "execute_result"
    }
   ],
   "source": [
    "l"
   ]
  },
  {
   "cell_type": "markdown",
   "metadata": {
    "id": "angtTrtGDTFQ"
   },
   "source": [
    "**Observation**\n",
    "\n",
    "The **if** check make sures only even numbers are added to the list."
   ]
  },
  {
   "cell_type": "markdown",
   "metadata": {
    "id": "GztnJ8KbG-9l"
   },
   "source": [
    "Create a new list of strings containing **odd** if the corresponding element in the list **l** is odd and **even** if it is even by using list comprehension with a conditional expression.\n"
   ]
  },
  {
   "cell_type": "markdown",
   "metadata": {
    "id": "BulXqXaoDmmj"
   },
   "source": [
    "- Create a list **l** using the list comprehension method"
   ]
  },
  {
   "cell_type": "code",
   "execution_count": 12,
   "metadata": {
    "id": "zns7AaRaXOgL"
   },
   "outputs": [],
   "source": [
    "l = [ x for x in range(10)]"
   ]
  },
  {
   "cell_type": "markdown",
   "metadata": {
    "id": "4yI4wgPlDz7g"
   },
   "source": [
    "- Create a list\n",
    "- Add **odd** if **x** is an odd number\n",
    "- Add **even** if **x** is an even number"
   ]
  },
  {
   "cell_type": "code",
   "execution_count": 13,
   "metadata": {
    "id": "OTWc69PZXOgL"
   },
   "outputs": [],
   "source": [
    "string_l = [ 'odd' if x%2!=0 else 'even' for x in l ]"
   ]
  },
  {
   "cell_type": "markdown",
   "metadata": {
    "id": "JH-vdpkQETSe"
   },
   "source": [
    "Now, let's display the list of strings."
   ]
  },
  {
   "cell_type": "code",
   "execution_count": 14,
   "metadata": {
    "id": "NyAqVr9_XOgL",
    "outputId": "900191f8-a20b-4a97-a291-b11f194175be"
   },
   "outputs": [
    {
     "data": {
      "text/plain": [
       "['even', 'odd', 'even', 'odd', 'even', 'odd', 'even', 'odd', 'even', 'odd']"
      ]
     },
     "execution_count": 14,
     "metadata": {},
     "output_type": "execute_result"
    }
   ],
   "source": [
    "string_l"
   ]
  },
  {
   "cell_type": "markdown",
   "metadata": {
    "id": "u7ZSo1fyEV5q"
   },
   "source": [
    "**Observation**\n",
    "\n",
    "Here, the list contains the elements even and odd, which are based on the numbers."
   ]
  }
 ],
 "metadata": {
  "colab": {
   "provenance": []
  },
  "kernelspec": {
   "display_name": "Python 3 (ipykernel)",
   "language": "python",
   "name": "python3"
  },
  "language_info": {
   "codemirror_mode": {
    "name": "ipython",
    "version": 3
   },
   "file_extension": ".py",
   "mimetype": "text/x-python",
   "name": "python",
   "nbconvert_exporter": "python",
   "pygments_lexer": "ipython3",
   "version": "3.8.2rc2"
  }
 },
 "nbformat": 4,
 "nbformat_minor": 4
}
